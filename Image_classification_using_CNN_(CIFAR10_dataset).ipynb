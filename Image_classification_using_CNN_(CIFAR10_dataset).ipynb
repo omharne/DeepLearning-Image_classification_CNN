{
  "nbformat": 4,
  "nbformat_minor": 0,
  "metadata": {
    "colab": {
      "provenance": []
    },
    "kernelspec": {
      "name": "python3",
      "display_name": "Python 3"
    },
    "language_info": {
      "name": "python"
    }
  },
  "cells": [
    {
      "cell_type": "code",
      "execution_count": 7,
      "metadata": {
        "id": "b-xH9ascb-RW"
      },
      "outputs": [],
      "source": [
        "import tensorflow as tf\n",
        "from tensorflow.keras import datasets, layers, models\n",
        "import matplotlib.pyplot as plt\n",
        "import numpy as np"
      ]
    },
    {
      "cell_type": "code",
      "source": [
        "#Load the dataset\n",
        "(X_train, y_train), (X_test,y_test) = datasets.cifar10.load_data()\n",
        "X_train.shape"
      ],
      "metadata": {
        "colab": {
          "base_uri": "https://localhost:8080/"
        },
        "id": "iQXhfB6Xcj6q",
        "outputId": "58a40d81-45c7-4d87-fa9d-194d3c923d9f"
      },
      "execution_count": 8,
      "outputs": [
        {
          "output_type": "execute_result",
          "data": {
            "text/plain": [
              "(50000, 32, 32, 3)"
            ]
          },
          "metadata": {},
          "execution_count": 8
        }
      ]
    },
    {
      "cell_type": "code",
      "source": [
        "X_test.shape"
      ],
      "metadata": {
        "colab": {
          "base_uri": "https://localhost:8080/"
        },
        "id": "25P74Kd3cv3g",
        "outputId": "57031c3a-abf1-4292-c560-0ba1cfa7da75"
      },
      "execution_count": 9,
      "outputs": [
        {
          "output_type": "execute_result",
          "data": {
            "text/plain": [
              "(10000, 32, 32, 3)"
            ]
          },
          "metadata": {},
          "execution_count": 9
        }
      ]
    },
    {
      "cell_type": "code",
      "source": [
        "#Here we see there are 50000 training images and 1000 test images\n",
        "y_train.shape"
      ],
      "metadata": {
        "colab": {
          "base_uri": "https://localhost:8080/"
        },
        "id": "4Kt-EzNicwMd",
        "outputId": "73a8da36-34a5-4e41-bd41-bd390fd03dc4"
      },
      "execution_count": 10,
      "outputs": [
        {
          "output_type": "execute_result",
          "data": {
            "text/plain": [
              "(50000, 1)"
            ]
          },
          "metadata": {},
          "execution_count": 10
        }
      ]
    },
    {
      "cell_type": "code",
      "source": [
        "y_train[:5]"
      ],
      "metadata": {
        "colab": {
          "base_uri": "https://localhost:8080/"
        },
        "id": "5A3i952NcwQ1",
        "outputId": "06742bbf-f992-4825-aeb1-d4f16565b1dd"
      },
      "execution_count": 11,
      "outputs": [
        {
          "output_type": "execute_result",
          "data": {
            "text/plain": [
              "array([[6],\n",
              "       [9],\n",
              "       [9],\n",
              "       [4],\n",
              "       [1]], dtype=uint8)"
            ]
          },
          "metadata": {},
          "execution_count": 11
        }
      ]
    },
    {
      "cell_type": "code",
      "source": [
        "plt.figure(figsize= (15,2))\n",
        "plt.imshow(X_train[1])"
      ],
      "metadata": {
        "colab": {
          "base_uri": "https://localhost:8080/",
          "height": 176
        },
        "id": "9aAZjER7cwUg",
        "outputId": "8f33f58e-c488-4f3f-d296-0a87573d9521"
      },
      "execution_count": 14,
      "outputs": [
        {
          "output_type": "execute_result",
          "data": {
            "text/plain": [
              "<matplotlib.image.AxesImage at 0x7f5edb28c4f0>"
            ]
          },
          "metadata": {},
          "execution_count": 14
        },
        {
          "output_type": "display_data",
          "data": {
            "text/plain": [
              "<Figure size 1080x144 with 1 Axes>"
            ],
            "image/png": "[encoded data removed]"
          },
          "metadata": {
            "needs_background": "light"
          }
        }
      ]
    },
    {
      "cell_type": "code",
      "source": [
        "# y_train is a 2D array, for our classification having 1D array is good enough. so we will convert this to now 1D array\n",
        "y_train = y_train.reshape(-1,)\n",
        "y_train[:5]"
      ],
      "metadata": {
        "colab": {
          "base_uri": "https://localhost:8080/"
        },
        "id": "IW9ThYFceIFt",
        "outputId": "087d1dc6-93c3-4c8d-842a-0c21355f72d5"
      },
      "execution_count": 15,
      "outputs": [
        {
          "output_type": "execute_result",
          "data": {
            "text/plain": [
              "array([6, 9, 9, 4, 1], dtype=uint8)"
            ]
          },
          "metadata": {},
          "execution_count": 15
        }
      ]
    },
    {
      "cell_type": "code",
      "source": [
        "y_test = y_test.reshape(-1,)"
      ],
      "metadata": {
        "id": "cBgndQLOeT5B"
      },
      "execution_count": 16,
      "outputs": []
    },
    {
      "cell_type": "code",
      "source": [
        "classes = [\"airplane\",\"automobile\",\"bird\",\"cat\",\"deer\",\"dog\",\"frog\",\"horse\",\"ship\",\"truck\"]"
      ],
      "metadata": {
        "id": "5fw0uOs1eT2T"
      },
      "execution_count": 17,
      "outputs": []
    },
    {
      "cell_type": "code",
      "source": [
        "#Let's plot some images to see what they are\n",
        "def plot_sample(X, y, index):\n",
        "    plt.figure(figsize = (15,2))\n",
        "    plt.imshow(X[index])\n",
        "    plt.xlabel(classes[y[index]])"
      ],
      "metadata": {
        "id": "VDvdqXC7eTvB"
      },
      "execution_count": 18,
      "outputs": []
    },
    {
      "cell_type": "code",
      "source": [
        "plot_sample(X_train, y_train, 0)"
      ],
      "metadata": {
        "colab": {
          "base_uri": "https://localhost:8080/",
          "height": 173
        },
        "id": "QvQFWy2jemlh",
        "outputId": "4159df2e-ba8d-42bc-9003-0465c72ae07a"
      },
      "execution_count": 19,
      "outputs": [
        {
          "output_type": "display_data",
          "data": {
            "text/plain": [
              "<Figure size 1080x144 with 1 Axes>"
            ],
            "image/png": "[encoded data removed]"
          },
          "metadata": {
            "needs_background": "light"
          }
        }
      ]
    },
    {
      "cell_type": "code",
      "source": [
        "plot_sample(X_train, y_train, 1)"
      ],
      "metadata": {
        "colab": {
          "base_uri": "https://localhost:8080/",
          "height": 173
        },
        "id": "brz5l0ZXemiP",
        "outputId": "bc9f6503-0bf8-4d41-b521-762ec53fb08b"
      },
      "execution_count": 20,
      "outputs": [
        {
          "output_type": "display_data",
          "data": {
            "text/plain": [
              "<Figure size 1080x144 with 1 Axes>"
            ],
            "image/png": "[encoded data removed]"
          },
          "metadata": {
            "needs_background": "light"
          }
        }
      ]
    },
    {
      "cell_type": "markdown",
      "source": [],
      "metadata": {
        "id": "_CFK_YQufTO0"
      }
    },
    {
      "cell_type": "markdown",
      "source": [
        "## Normalize the images to a number from 0 to 1. Image has 3 channels (R,G,B) and each value in the channel can range from 0 to 255. Hence to normalize in 0-->1 range, we need to divide it by 255"
      ],
      "metadata": {
        "id": "v9vOVeH0fXes"
      }
    },
    {
      "cell_type": "code",
      "source": [
        "#Normalizing the training data\n",
        "X_train = X_train / 255.0\n",
        "X_test = X_test / 255.0"
      ],
      "metadata": {
        "id": "rWCOzf7temcv"
      },
      "execution_count": 21,
      "outputs": []
    },
    {
      "cell_type": "code",
      "source": [
        "ann = models.Sequential([\n",
        "        layers.Flatten(input_shape=(32,32,3)),\n",
        "        layers.Dense(3000, activation='relu'),\n",
        "        layers.Dense(1000, activation='relu'),\n",
        "        layers.Dense(10, activation='softmax')    \n",
        "    ])\n",
        "\n",
        "ann.compile(optimizer='SGD',\n",
        "              loss='sparse_categorical_crossentropy',\n",
        "              metrics=['accuracy'])\n",
        "\n",
        "ann.fit(X_train, y_train, epochs=5)"
      ],
      "metadata": {
        "colab": {
          "base_uri": "https://localhost:8080/"
        },
        "id": "gN83v81XeTrx",
        "outputId": "a5783d28-0dd0-471b-ac94-bc62f511d7f6"
      },
      "execution_count": 22,
      "outputs": [
        {
          "output_type": "stream",
          "name": "stdout",
          "text": [
            "Epoch 1/5\n",
            "1563/1563 [==============================] - 141s 90ms/step - loss: 1.8114 - accuracy: 0.3547\n",
            "Epoch 2/5\n",
            "1563/1563 [==============================] - 147s 94ms/step - loss: 1.6262 - accuracy: 0.4263\n",
            "Epoch 3/5\n",
            "1563/1563 [==============================] - 142s 91ms/step - loss: 1.5440 - accuracy: 0.4565\n",
            "Epoch 4/5\n",
            "1563/1563 [==============================] - 143s 92ms/step - loss: 1.4827 - accuracy: 0.4776\n",
            "Epoch 5/5\n",
            "1563/1563 [==============================] - 143s 92ms/step - loss: 1.4342 - accuracy: 0.4954\n"
          ]
        },
        {
          "output_type": "execute_result",
          "data": {
            "text/plain": [
              "<keras.callbacks.History at 0x7f5edb549c70>"
            ]
          },
          "metadata": {},
          "execution_count": 22
        }
      ]
    },
    {
      "cell_type": "code",
      "source": [
        "# You can see that at the end of 5 epochs, accuracy is at around 49%"
      ],
      "metadata": {
        "id": "CUuaJY3_jMPY"
      },
      "execution_count": null,
      "outputs": []
    },
    {
      "cell_type": "code",
      "source": [
        "from sklearn.metrics import confusion_matrix , classification_report\n",
        "import numpy as np\n",
        "y_pred = ann.predict(X_test)\n",
        "y_pred_classes = [np.argmax(element) for element in y_pred]\n",
        "\n",
        "print(\"Classification Report: \\n\", classification_report(y_test, y_pred_classes))"
      ],
      "metadata": {
        "colab": {
          "base_uri": "https://localhost:8080/"
        },
        "id": "Nx5mlhzDjMLS",
        "outputId": "d478ea3f-2baa-4a51-fbef-f6ea9405370c"
      },
      "execution_count": 23,
      "outputs": [
        {
          "output_type": "stream",
          "name": "stdout",
          "text": [
            "313/313 [==============================] - 9s 29ms/step\n",
            "Classification Report: \n",
            "               precision    recall  f1-score   support\n",
            "\n",
            "           0       0.49      0.51      0.50      1000\n",
            "           1       0.63      0.53      0.57      1000\n",
            "           2       0.37      0.39      0.38      1000\n",
            "           3       0.40      0.32      0.35      1000\n",
            "           4       0.38      0.51      0.44      1000\n",
            "           5       0.64      0.16      0.26      1000\n",
            "           6       0.63      0.38      0.47      1000\n",
            "           7       0.50      0.59      0.55      1000\n",
            "           8       0.38      0.81      0.52      1000\n",
            "           9       0.59      0.42      0.49      1000\n",
            "\n",
            "    accuracy                           0.46     10000\n",
            "   macro avg       0.50      0.46      0.45     10000\n",
            "weighted avg       0.50      0.46      0.45     10000\n",
            "\n"
          ]
        }
      ]
    },
    {
      "cell_type": "code",
      "source": [
        "# Now let us build a convolutional neural network to train our images\n",
        "cnn = models.Sequential([\n",
        "    layers.Conv2D(filters=32, kernel_size=(3, 3), activation='relu', input_shape=(32, 32, 3)),\n",
        "    layers.MaxPooling2D((2, 2)),\n",
        "    \n",
        "    layers.Conv2D(filters=64, kernel_size=(3, 3), activation='relu'),\n",
        "    layers.MaxPooling2D((2, 2)),\n",
        "    \n",
        "    layers.Flatten(),\n",
        "    layers.Dense(64, activation='relu'),\n",
        "    layers.Dense(10, activation='softmax')\n",
        "])"
      ],
      "metadata": {
        "id": "xOorAC73jMBR"
      },
      "execution_count": 24,
      "outputs": []
    },
    {
      "cell_type": "code",
      "source": [
        "cnn.compile(optimizer='adam',\n",
        "              loss='sparse_categorical_crossentropy',\n",
        "              metrics=['accuracy'])"
      ],
      "metadata": {
        "id": "9BLjQM1clTrh"
      },
      "execution_count": 25,
      "outputs": []
    },
    {
      "cell_type": "code",
      "source": [
        "cnn.fit(X_train, y_train, epochs=10)"
      ],
      "metadata": {
        "colab": {
          "base_uri": "https://localhost:8080/"
        },
        "id": "Uz_2BefnlTpD",
        "outputId": "aab6aacd-3cab-45b8-c5a9-bbbd4c64f3fb"
      },
      "execution_count": 26,
      "outputs": [
        {
          "output_type": "stream",
          "name": "stdout",
          "text": [
            "Epoch 1/10\n",
            "1563/1563 [==============================] - 70s 44ms/step - loss: 1.4330 - accuracy: 0.4840\n",
            "Epoch 2/10\n",
            "1563/1563 [==============================] - 72s 46ms/step - loss: 1.0827 - accuracy: 0.6201\n",
            "Epoch 3/10\n",
            "1563/1563 [==============================] - 70s 45ms/step - loss: 0.9450 - accuracy: 0.6708\n",
            "Epoch 4/10\n",
            "1563/1563 [==============================] - 68s 43ms/step - loss: 0.8561 - accuracy: 0.7042\n",
            "Epoch 5/10\n",
            "1563/1563 [==============================] - 69s 44ms/step - loss: 0.7904 - accuracy: 0.7252\n",
            "Epoch 6/10\n",
            "1563/1563 [==============================] - 69s 44ms/step - loss: 0.7318 - accuracy: 0.7451\n",
            "Epoch 7/10\n",
            "1563/1563 [==============================] - 67s 43ms/step - loss: 0.6832 - accuracy: 0.7611\n",
            "Epoch 8/10\n",
            "1563/1563 [==============================] - 69s 44ms/step - loss: 0.6351 - accuracy: 0.7767\n",
            "Epoch 9/10\n",
            "1563/1563 [==============================] - 70s 45ms/step - loss: 0.5950 - accuracy: 0.7927\n",
            "Epoch 10/10\n",
            "1563/1563 [==============================] - 67s 43ms/step - loss: 0.5541 - accuracy: 0.8052\n"
          ]
        },
        {
          "output_type": "execute_result",
          "data": {
            "text/plain": [
              "<keras.callbacks.History at 0x7f5eddefaac0>"
            ]
          },
          "metadata": {},
          "execution_count": 26
        }
      ]
    },
    {
      "cell_type": "markdown",
      "source": [
        "With CNN, at the end 5 epochs, accuracy was at around 70% which is a significant improvement over ANN. CNN's are best for image classification and gives superb accuracy. Also computation is much less compared to simple ANN as maxpooling reduces the image dimensions while still preserving the features"
      ],
      "metadata": {
        "id": "hjjNPAipo7y-"
      }
    },
    {
      "cell_type": "code",
      "source": [
        "cnn.evaluate(X_test,y_test)"
      ],
      "metadata": {
        "colab": {
          "base_uri": "https://localhost:8080/"
        },
        "id": "mKGeYm0JlTmD",
        "outputId": "fb0b7287-6a49-4878-a06c-bce9e6fe5ee7"
      },
      "execution_count": 27,
      "outputs": [
        {
          "output_type": "stream",
          "name": "stdout",
          "text": [
            "313/313 [==============================] - 5s 14ms/step - loss: 0.9452 - accuracy: 0.6962\n"
          ]
        },
        {
          "output_type": "execute_result",
          "data": {
            "text/plain": [
              "[0.9451608657836914, 0.6962000131607056]"
            ]
          },
          "metadata": {},
          "execution_count": 27
        }
      ]
    },
    {
      "cell_type": "code",
      "source": [
        "y_pred = cnn.predict(X_test)\n",
        "y_pred[:5]"
      ],
      "metadata": {
        "colab": {
          "base_uri": "https://localhost:8080/"
        },
        "id": "UOfVObbOlTfR",
        "outputId": "e795772e-6532-4f5e-c1c1-215e820230c2"
      },
      "execution_count": 28,
      "outputs": [
        {
          "output_type": "stream",
          "name": "stdout",
          "text": [
            "313/313 [==============================] - 5s 15ms/step\n"
          ]
        },
        {
          "output_type": "execute_result",
          "data": {
            "text/plain": [
              "array([[1.10693996e-04, 7.15571514e-06, 5.52055892e-04, 8.39367032e-01,\n",
              "        3.69268993e-04, 6.51674867e-02, 2.63667293e-03, 9.73723857e-08,\n",
              "        9.17879120e-02, 1.57734257e-06],\n",
              "       [6.44032806e-02, 2.06884891e-02, 3.01697969e-06, 8.34772663e-07,\n",
              "        7.63271828e-07, 9.14475518e-09, 3.09707565e-10, 1.02487085e-09,\n",
              "        9.14507151e-01, 3.96358053e-04],\n",
              "       [7.90283605e-02, 2.68352240e-01, 1.51903398e-04, 8.79463507e-04,\n",
              "        5.85468602e-04, 8.89517687e-05, 3.48911308e-05, 8.00587732e-05,\n",
              "        6.47909224e-01, 2.88944994e-03],\n",
              "       [9.73278403e-01, 2.01179180e-02, 3.22342850e-04, 6.13227487e-04,\n",
              "        6.27423811e-04, 4.34620318e-07, 8.23833659e-07, 1.43639900e-05,\n",
              "        4.94130328e-03, 8.37262269e-05],\n",
              "       [1.50121582e-09, 9.85565712e-05, 2.60566827e-03, 5.55826258e-03,\n",
              "        1.38137385e-01, 3.60655249e-04, 8.53237987e-01, 5.07317708e-08,\n",
              "        1.31103775e-06, 1.43641348e-08]], dtype=float32)"
            ]
          },
          "metadata": {},
          "execution_count": 28
        }
      ]
    },
    {
      "cell_type": "code",
      "source": [
        "y_classes = [np.argmax(element) for element in y_pred]\n",
        "y_classes[:5]"
      ],
      "metadata": {
        "colab": {
          "base_uri": "https://localhost:8080/"
        },
        "id": "w05tMHlZlTbY",
        "outputId": "984252fd-740c-4f7b-e9ca-9f62b40bb55e"
      },
      "execution_count": 29,
      "outputs": [
        {
          "output_type": "execute_result",
          "data": {
            "text/plain": [
              "[3, 8, 8, 0, 6]"
            ]
          },
          "metadata": {},
          "execution_count": 29
        }
      ]
    },
    {
      "cell_type": "code",
      "source": [
        "y_test[:5]"
      ],
      "metadata": {
        "colab": {
          "base_uri": "https://localhost:8080/"
        },
        "id": "HsyJrKFlpHCq",
        "outputId": "935d8f83-fada-4654-8caa-0b56146cd0f1"
      },
      "execution_count": 30,
      "outputs": [
        {
          "output_type": "execute_result",
          "data": {
            "text/plain": [
              "array([3, 8, 8, 0, 6], dtype=uint8)"
            ]
          },
          "metadata": {},
          "execution_count": 30
        }
      ]
    },
    {
      "cell_type": "code",
      "source": [
        "plot_sample(X_test, y_test,9)"
      ],
      "metadata": {
        "colab": {
          "base_uri": "https://localhost:8080/",
          "height": 173
        },
        "id": "hRL6dtuWpG_J",
        "outputId": "7c3e76b4-3233-4983-aaa9-e9c3cfd511b1"
      },
      "execution_count": 34,
      "outputs": [
        {
          "output_type": "display_data",
          "data": {
            "text/plain": [
              "<Figure size 1080x144 with 1 Axes>"
            ],
            "image/png": "[encoded data removed]"
          },
          "metadata": {
            "needs_background": "light"
          }
        }
      ]
    },
    {
      "cell_type": "code",
      "source": [
        "classes[y_classes[9]]"
      ],
      "metadata": {
        "colab": {
          "base_uri": "https://localhost:8080/",
          "height": 36
        },
        "id": "9tp77ElCpG8H",
        "outputId": "97c21a7a-2621-4698-ce83-15b5fff46847"
      },
      "execution_count": 35,
      "outputs": [
        {
          "output_type": "execute_result",
          "data": {
            "text/plain": [
              "'automobile'"
            ],
            "application/vnd.google.colaboratory.intrinsic+json": {
              "type": "string"
            }
          },
          "metadata": {},
          "execution_count": 35
        }
      ]
    },
    {
      "cell_type": "code",
      "source": [
        "plot_sample(X_test, y_test,6)"
      ],
      "metadata": {
        "colab": {
          "base_uri": "https://localhost:8080/",
          "height": 173
        },
        "id": "ajnOX8sNpG5p",
        "outputId": "8e43649c-c768-4226-d158-db064711c84f"
      },
      "execution_count": 36,
      "outputs": [
        {
          "output_type": "display_data",
          "data": {
            "text/plain": [
              "<Figure size 1080x144 with 1 Axes>"
            ],
            "image/png": "[encoded data removed]"
          },
          "metadata": {
            "needs_background": "light"
          }
        }
      ]
    },
    {
      "cell_type": "code",
      "source": [
        "classes[y_classes[6]]"
      ],
      "metadata": {
        "colab": {
          "base_uri": "https://localhost:8080/",
          "height": 36
        },
        "id": "bB1N4WQdpfnZ",
        "outputId": "d06ad347-a1de-4fd7-e871-63e763322eb1"
      },
      "execution_count": 37,
      "outputs": [
        {
          "output_type": "execute_result",
          "data": {
            "text/plain": [
              "'automobile'"
            ],
            "application/vnd.google.colaboratory.intrinsic+json": {
              "type": "string"
            }
          },
          "metadata": {},
          "execution_count": 37
        }
      ]
    },
    {
      "cell_type": "code",
      "source": [
        "plot_sample(X_test, y_test,4)"
      ],
      "metadata": {
        "colab": {
          "base_uri": "https://localhost:8080/",
          "height": 173
        },
        "id": "ajEeZkMapfkE",
        "outputId": "149cd494-d777-43be-d8cf-07cff1d2842b"
      },
      "execution_count": 39,
      "outputs": [
        {
          "output_type": "display_data",
          "data": {
            "text/plain": [
              "<Figure size 1080x144 with 1 Axes>"
            ],
            "image/png": "[encoded data removed]"
          },
          "metadata": {
            "needs_background": "light"
          }
        }
      ]
    },
    {
      "cell_type": "code",
      "source": [
        "classes[y_classes[4]]"
      ],
      "metadata": {
        "colab": {
          "base_uri": "https://localhost:8080/",
          "height": 36
        },
        "id": "JmNfrsSipfhN",
        "outputId": "d13753f6-9195-450f-ac29-1ba694a362a8"
      },
      "execution_count": 40,
      "outputs": [
        {
          "output_type": "execute_result",
          "data": {
            "text/plain": [
              "'frog'"
            ],
            "application/vnd.google.colaboratory.intrinsic+json": {
              "type": "string"
            }
          },
          "metadata": {},
          "execution_count": 40
        }
      ]
    },
    {
      "cell_type": "code",
      "source": [],
      "metadata": {
        "id": "Fs5w3EBQpfaC"
      },
      "execution_count": null,
      "outputs": []
    }
  ]
}